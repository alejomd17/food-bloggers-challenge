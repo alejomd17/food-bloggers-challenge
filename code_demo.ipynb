{
 "cells": [
  {
   "cell_type": "code",
   "execution_count": null,
   "id": "1be91a22",
   "metadata": {},
   "outputs": [],
   "source": [
    "# code_demo.ipynb\n",
    "# ===========================================\n",
    "# Es un ejemplo para mostrar la forma en la que sería (como si fuera en local) la estructura del producto.\n",
    "\n",
    "# La ingesta se haría por un trigger en Azure Data Factory\n",
    "# este leería un databricks que contiene las funciones de ingesta de datos y su limpieza.\n",
    "# este pasaría a estar almacenado por zonas (raw, curated) en un Blob en azure Storage\n",
    "\n",
    "# 1. Ingesta de señales sociales y ventas\n",
    "df_social = fetch_data_from_perplexity_and_x()\n",
    "df_sales = fetch_openfood_data()\n",
    "\n",
    "# 2. Integración y limpieza\n",
    "df = merge_clean_sources([df_social, df_sales])\n",
    "\n",
    "# El modelado también sería un script en Azure Databricks + modelo registrado en Azure ML\n",
    "# 3. Feature Engineering\n",
    "df['trend_score'] = calculate_trend(df['likes'], df['growth_rate'], df['ventas'])\n",
    "df['seasonality'] = detect_seasonality(df['ventas'])\n",
    "\n",
    "# 4. Embeddings\n",
    "ingredient_vectors = train_word2vec(df['ingredientes'])\n",
    "df['ingredient_vector'] = df['ingredientes'].map(ingredient_vectors)\n",
    "\n",
    "# 5. Entrenamiento del modelo\n",
    "X, y = build_dataset(df, target='performance_metric')\n",
    "\n",
    "# El modelo elegido pasa por una cantidad de competencias entre diferentes modelos para elegir el mejor según sus métricas\n",
    "model = modelo_elegido().fit(X, y)\n",
    "\n",
    "# 6. Recomendación\n",
    "X_new = extract_new_trend_features()\n",
    "predictions = model.predict(X_new)\n",
    "recommendations = rank_and_filter(predictions)\n",
    "\n",
    "# La creación del BackEnd (REST API) se realizaría con FastAPI.\n",
    "# El monitoreo de datos en Azure, sería con MLflow o ML Studio\n",
    "# Los resultados quedan en Azure Blob Storage o expuestos para FrontEnd/BI\n",
    "# Este proyecto permite el uso de IA generativa en varios pasos, cómo en la interpretabilidad de insights de la data del mercado o la interna. Así cómo la creación de recetas originales usando LLMs como OpenAI o Claude.\n"
   ]
  }
 ],
 "metadata": {
  "language_info": {
   "name": "python"
  }
 },
 "nbformat": 4,
 "nbformat_minor": 5
}
